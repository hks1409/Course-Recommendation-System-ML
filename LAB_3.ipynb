{
  "nbformat": 4,
  "nbformat_minor": 0,
  "metadata": {
    "colab": {
      "name": "LAB 3.ipynb",
      "provenance": []
    },
    "kernelspec": {
      "name": "python3",
      "display_name": "Python 3"
    },
    "language_info": {
      "name": "python"
    }
  },
  "cells": [
    {
      "cell_type": "code",
      "execution_count": null,
      "metadata": {
        "colab": {
          "base_uri": "https://localhost:8080/"
        },
        "id": "1h5pNsDhf0oV",
        "outputId": "a00e0205-14d5-42f5-ab88-c013d9d9d031"
      },
      "outputs": [
        {
          "output_type": "stream",
          "name": "stdout",
          "text": [
            "LATIN SQUARE: \n",
            "\n",
            "Enter a number: 5\n",
            "1 2 3 4 5 \n",
            "5 1 2 3 4 \n",
            "4 5 1 2 3 \n",
            "3 4 5 1 2 \n",
            "2 3 4 5 1 \n"
          ]
        }
      ],
      "source": [
        "def printLatin(n):\n",
        "  k = n + 1\n",
        "  for i in range(1, n + 1):\n",
        "    temp = k\n",
        "    while (temp <= n):\n",
        "      print(temp, end = \" \")\n",
        "      temp += 1\n",
        "      \n",
        "    for j in range(1, k):\n",
        "      print(j, end = \" \")\n",
        "      \n",
        "    k -= 1\n",
        "    print()\n",
        "\n",
        "print(\"LATIN SQUARE: \\n\")\n",
        "n = int(input(\"Enter a number: \"))\n",
        "printLatin(n)"
      ]
    },
    {
      "cell_type": "code",
      "source": [
        "colors = ['Blue', 'Red', 'Green','Violet']\n",
        "\n",
        "states = ['K', 'D', 'H', 'B2', 'B3', 'MB1','GR','SR',\"LIB\"]\n",
        "\n",
        "neighbors = {}\n",
        "neighbors['K'] = ['SR', 'D']\n",
        "neighbors['D']=['B2','H','K','SR','MB1']\n",
        "neighbors['H']=['D','B3']\n",
        "neighbors['B2'] = ['D']\n",
        "neighbors['B3'] = ['H']\n",
        "neighbors['MB1'] = ['D', 'LIB']\n",
        "neighbors['GR'] = []\n",
        "neighbors['SR'] = ['K', 'LIB',]\n",
        "neighbors['LIB']=['MB1','SR']\n",
        "\n",
        "print(\"ROOM COLOURING PROBLEM:\\n\")\n",
        "colors_of_states = {}\n",
        "\n",
        "def promising(state, color):\n",
        "    for neighbor in neighbors.get(state): \n",
        "        color_of_neighbor = colors_of_states.get(neighbor)\n",
        "        if color_of_neighbor == color:\n",
        "            return False\n",
        "\n",
        "    return True\n",
        "\n",
        "def get_color_for_state(state):\n",
        "    for color in colors:\n",
        "        if promising(state, color):\n",
        "            return color\n",
        "\n",
        "def main():\n",
        "    for state in states:\n",
        "        colors_of_states[state] = get_color_for_state(state)\n",
        "\n",
        "    print(colors_of_states)\n",
        "\n",
        "\n",
        "main()"
      ],
      "metadata": {
        "colab": {
          "base_uri": "https://localhost:8080/"
        },
        "id": "ehcAzWuAbiPs",
        "outputId": "176693ce-f167-44eb-b404-b704ac98a136"
      },
      "execution_count": null,
      "outputs": [
        {
          "output_type": "stream",
          "name": "stdout",
          "text": [
            "ROOM COLOURING PROBLEM:\n",
            "\n",
            "{'K': 'Blue', 'D': 'Red', 'H': 'Blue', 'B2': 'Blue', 'B3': 'Red', 'MB1': 'Blue', 'GR': 'Blue', 'SR': 'Red', 'LIB': 'Green'}\n"
          ]
        }
      ]
    }
  ]
}